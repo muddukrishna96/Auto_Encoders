{
  "nbformat": 4,
  "nbformat_minor": 0,
  "metadata": {
    "colab": {
      "name": "auto encoders.ipynb",
      "provenance": []
    },
    "kernelspec": {
      "name": "python3",
      "display_name": "Python 3"
    },
    "language_info": {
      "name": "python"
    }
  },
  "cells": [
    {
      "cell_type": "code",
      "execution_count": 2,
      "metadata": {
        "colab": {
          "base_uri": "https://localhost:8080/"
        },
        "id": "Eobej8V8-hA-",
        "outputId": "f24a1643-ead2-4dc9-9ae7-6e09cc07231e"
      },
      "outputs": [
        {
          "output_type": "stream",
          "name": "stdout",
          "text": [
            "Requirement already satisfied: Keras in /usr/local/lib/python3.7/dist-packages (2.8.0)\n"
          ]
        }
      ],
      "source": [
        "!pip install Keras"
      ]
    },
    {
      "cell_type": "code",
      "source": [
        "from keras.models import Model\n",
        "from keras.layers import Input,Dense\n",
        "from keras.datasets import mnist\n",
        "import numpy as np\n",
        "import matplotlib.pyplot as plt \n"
      ],
      "metadata": {
        "id": "FOP3tMdO-0Te"
      },
      "execution_count": 6,
      "outputs": []
    },
    {
      "cell_type": "code",
      "source": [
        "# let us define the encoding dimention\n",
        "encoding_dim = 64"
      ],
      "metadata": {
        "id": "3DLgWGvq_Xok"
      },
      "execution_count": 8,
      "outputs": []
    },
    {
      "cell_type": "code",
      "source": [
        "input_img = Input(shape=(784,))# our image is 28*28\n",
        "# encoded layer will be dense layer\n",
        "encoded = Dense(encoding_dim , activation='relu')(input_img) # this will be applied on the previous layer\n",
        "decoded = Dense(784 , activation ='sigmoid')(encoded)  ## output is same as input thats why 784\n",
        "\n",
        "#now we are building the auto encoder model\n",
        "autoencoder = Model(input_img,decoded) ## providing the imnput and output layer\n",
        "\n",
        "#now we create an encoder model\n",
        "encoder = Model(input_img,encoded)\n",
        "\n",
        "##a place holder for encoded input is created\n",
        "encoded_input = Input(shape=(encoding_dim,))\n",
        "\n",
        "## extracting the last layer from auto encoder\n",
        "decoder_layer = autoencoder.layers[-1]\n",
        "\n",
        "\n",
        "## creating a decoder model\n",
        "decoder = Model(encoded_input , decoder_layer(encoded_input))"
      ],
      "metadata": {
        "id": "cJdp0myA_YIH"
      },
      "execution_count": 11,
      "outputs": []
    },
    {
      "cell_type": "code",
      "source": [
        "##compiling the model\n",
        "autoencoder.compile(optimizer='adam',loss = 'binary_crossentropy')"
      ],
      "metadata": {
        "id": "gT5BuEv8_YKp"
      },
      "execution_count": 21,
      "outputs": []
    },
    {
      "cell_type": "code",
      "source": [
        "#load mnist dataset\n",
        "#incase of auto encoders input is same as the output so we will not need the y values\n",
        "(x_train,_),(x_test,_)=mnist.load_data()\n",
        "\n",
        "## data normalization\n",
        "\n",
        "x_train = x_train.astype('float32')/255\n",
        "x_test = x_test.astype('float32')/255\n",
        "\n",
        "## reshaping to 784\n",
        "x_train = x_train.reshape((len(x_train),(np.prod(x_train.shape[1:]))))\n",
        "x_test = x_test.reshape((len(x_test),(np.prod(x_test.shape[1:]))))\n",
        "\n",
        "print(f'x_train shape={x_train.shape}')\n",
        "print(f'x_test shape={x_test.shape}')"
      ],
      "metadata": {
        "colab": {
          "base_uri": "https://localhost:8080/"
        },
        "id": "50ShwemH_YNZ",
        "outputId": "7e321926-8fe0-4f4f-f678-0bf6e50209d7"
      },
      "execution_count": 22,
      "outputs": [
        {
          "output_type": "stream",
          "name": "stdout",
          "text": [
            "x_train shape=(60000, 784)\n",
            "x_test shape=(10000, 784)\n"
          ]
        }
      ]
    },
    {
      "cell_type": "code",
      "source": [
        "## fiting the data in auto encoder model\n",
        "\n",
        "autoencoder.fit(x_train,x_train, epochs=50 , batch_size = 256 , shuffle = True, validation_data = (x_test,x_test))"
      ],
      "metadata": {
        "colab": {
          "base_uri": "https://localhost:8080/"
        },
        "id": "EYE0udnBEP5z",
        "outputId": "367a5a77-ea8a-4768-83b7-8f958575f948"
      },
      "execution_count": 23,
      "outputs": [
        {
          "output_type": "stream",
          "name": "stdout",
          "text": [
            "Epoch 1/50\n",
            "235/235 [==============================] - 4s 14ms/step - loss: 0.2393 - val_loss: 0.1626\n",
            "Epoch 2/50\n",
            "235/235 [==============================] - 3s 13ms/step - loss: 0.1437 - val_loss: 0.1264\n",
            "Epoch 3/50\n",
            "235/235 [==============================] - 3s 13ms/step - loss: 0.1181 - val_loss: 0.1086\n",
            "Epoch 4/50\n",
            "235/235 [==============================] - 3s 13ms/step - loss: 0.1040 - val_loss: 0.0975\n",
            "Epoch 5/50\n",
            "235/235 [==============================] - 3s 13ms/step - loss: 0.0949 - val_loss: 0.0901\n",
            "Epoch 6/50\n",
            "235/235 [==============================] - 3s 13ms/step - loss: 0.0886 - val_loss: 0.0851\n",
            "Epoch 7/50\n",
            "235/235 [==============================] - 3s 13ms/step - loss: 0.0842 - val_loss: 0.0815\n",
            "Epoch 8/50\n",
            "235/235 [==============================] - 3s 13ms/step - loss: 0.0811 - val_loss: 0.0791\n",
            "Epoch 9/50\n",
            "235/235 [==============================] - 3s 13ms/step - loss: 0.0790 - val_loss: 0.0775\n",
            "Epoch 10/50\n",
            "235/235 [==============================] - 3s 13ms/step - loss: 0.0776 - val_loss: 0.0764\n",
            "Epoch 11/50\n",
            "235/235 [==============================] - 3s 13ms/step - loss: 0.0766 - val_loss: 0.0755\n",
            "Epoch 12/50\n",
            "235/235 [==============================] - 3s 13ms/step - loss: 0.0759 - val_loss: 0.0749\n",
            "Epoch 13/50\n",
            "235/235 [==============================] - 3s 13ms/step - loss: 0.0753 - val_loss: 0.0744\n",
            "Epoch 14/50\n",
            "235/235 [==============================] - 3s 13ms/step - loss: 0.0749 - val_loss: 0.0741\n",
            "Epoch 15/50\n",
            "235/235 [==============================] - 3s 13ms/step - loss: 0.0746 - val_loss: 0.0738\n",
            "Epoch 16/50\n",
            "235/235 [==============================] - 3s 13ms/step - loss: 0.0743 - val_loss: 0.0736\n",
            "Epoch 17/50\n",
            "235/235 [==============================] - 3s 13ms/step - loss: 0.0741 - val_loss: 0.0734\n",
            "Epoch 18/50\n",
            "235/235 [==============================] - 3s 13ms/step - loss: 0.0740 - val_loss: 0.0733\n",
            "Epoch 19/50\n",
            "235/235 [==============================] - 3s 13ms/step - loss: 0.0738 - val_loss: 0.0732\n",
            "Epoch 20/50\n",
            "235/235 [==============================] - 3s 13ms/step - loss: 0.0737 - val_loss: 0.0731\n",
            "Epoch 21/50\n",
            "235/235 [==============================] - 3s 13ms/step - loss: 0.0736 - val_loss: 0.0730\n",
            "Epoch 22/50\n",
            "235/235 [==============================] - 3s 13ms/step - loss: 0.0735 - val_loss: 0.0729\n",
            "Epoch 23/50\n",
            "235/235 [==============================] - 3s 13ms/step - loss: 0.0734 - val_loss: 0.0729\n",
            "Epoch 24/50\n",
            "235/235 [==============================] - 3s 13ms/step - loss: 0.0734 - val_loss: 0.0728\n",
            "Epoch 25/50\n",
            "235/235 [==============================] - 3s 13ms/step - loss: 0.0733 - val_loss: 0.0727\n",
            "Epoch 26/50\n",
            "235/235 [==============================] - 4s 18ms/step - loss: 0.0733 - val_loss: 0.0727\n",
            "Epoch 27/50\n",
            "235/235 [==============================] - 3s 13ms/step - loss: 0.0732 - val_loss: 0.0727\n",
            "Epoch 28/50\n",
            "235/235 [==============================] - 3s 13ms/step - loss: 0.0732 - val_loss: 0.0727\n",
            "Epoch 29/50\n",
            "235/235 [==============================] - 3s 13ms/step - loss: 0.0731 - val_loss: 0.0726\n",
            "Epoch 30/50\n",
            "235/235 [==============================] - 3s 13ms/step - loss: 0.0731 - val_loss: 0.0725\n",
            "Epoch 31/50\n",
            "235/235 [==============================] - 3s 13ms/step - loss: 0.0730 - val_loss: 0.0725\n",
            "Epoch 32/50\n",
            "235/235 [==============================] - 3s 13ms/step - loss: 0.0730 - val_loss: 0.0725\n",
            "Epoch 33/50\n",
            "235/235 [==============================] - 3s 13ms/step - loss: 0.0730 - val_loss: 0.0725\n",
            "Epoch 34/50\n",
            "235/235 [==============================] - 3s 13ms/step - loss: 0.0730 - val_loss: 0.0724\n",
            "Epoch 35/50\n",
            "235/235 [==============================] - 3s 13ms/step - loss: 0.0729 - val_loss: 0.0724\n",
            "Epoch 36/50\n",
            "235/235 [==============================] - 3s 13ms/step - loss: 0.0729 - val_loss: 0.0724\n",
            "Epoch 37/50\n",
            "235/235 [==============================] - 3s 13ms/step - loss: 0.0729 - val_loss: 0.0724\n",
            "Epoch 38/50\n",
            "235/235 [==============================] - 3s 13ms/step - loss: 0.0729 - val_loss: 0.0724\n",
            "Epoch 39/50\n",
            "235/235 [==============================] - 3s 13ms/step - loss: 0.0729 - val_loss: 0.0724\n",
            "Epoch 40/50\n",
            "235/235 [==============================] - 3s 13ms/step - loss: 0.0728 - val_loss: 0.0723\n",
            "Epoch 41/50\n",
            "235/235 [==============================] - 3s 13ms/step - loss: 0.0728 - val_loss: 0.0724\n",
            "Epoch 42/50\n",
            "235/235 [==============================] - 3s 13ms/step - loss: 0.0728 - val_loss: 0.0723\n",
            "Epoch 43/50\n",
            "235/235 [==============================] - 3s 13ms/step - loss: 0.0728 - val_loss: 0.0723\n",
            "Epoch 44/50\n",
            "235/235 [==============================] - 3s 13ms/step - loss: 0.0728 - val_loss: 0.0723\n",
            "Epoch 45/50\n",
            "235/235 [==============================] - 3s 13ms/step - loss: 0.0728 - val_loss: 0.0723\n",
            "Epoch 46/50\n",
            "235/235 [==============================] - 3s 13ms/step - loss: 0.0728 - val_loss: 0.0723\n",
            "Epoch 47/50\n",
            "235/235 [==============================] - 3s 13ms/step - loss: 0.0727 - val_loss: 0.0723\n",
            "Epoch 48/50\n",
            "235/235 [==============================] - 3s 13ms/step - loss: 0.0727 - val_loss: 0.0723\n",
            "Epoch 49/50\n",
            "235/235 [==============================] - 3s 13ms/step - loss: 0.0727 - val_loss: 0.0722\n",
            "Epoch 50/50\n",
            "235/235 [==============================] - 3s 13ms/step - loss: 0.0727 - val_loss: 0.0723\n"
          ]
        },
        {
          "output_type": "execute_result",
          "data": {
            "text/plain": [
              "<keras.callbacks.History at 0x7fad29ace990>"
            ]
          },
          "metadata": {},
          "execution_count": 23
        }
      ]
    },
    {
      "cell_type": "code",
      "source": [
        "encoded_imgs = encoder.predict(x_test)\n",
        "decoded_imgs = decoder.predict(encoded_imgs)"
      ],
      "metadata": {
        "id": "Ut3Y_hQxEP8a"
      },
      "execution_count": 24,
      "outputs": []
    },
    {
      "cell_type": "code",
      "source": [
        "n = 10\n",
        "plt.figure(figsize = (20,4))\n",
        "\n",
        "for i in range(n):\n",
        "     ax = plt.subplot(2,n,i+1)\n",
        "     plt.imshow(x_test[i].reshape(28,28))\n",
        "     plt.gray()\n",
        "     ax.get_xaxis().set_visible(False)\n",
        "     ax.get_yaxis().set_visible(False)\n",
        "\n",
        "     ax = plt.subplot(2,n,i+1+n)\n",
        "     plt.imshow(decoded_imgs[i].reshape(28,28))\n",
        "     plt.gray()\n",
        "     ax.get_xaxis().set_visible(False)\n",
        "     ax.get_yaxis().set_visible(False)\n",
        "\n",
        "plt.show()\n"
      ],
      "metadata": {
        "colab": {
          "base_uri": "https://localhost:8080/",
          "height": 248
        },
        "id": "1hlbCBYaEP-5",
        "outputId": "5533e95a-93f9-429e-cfe5-e60a259a13d0"
      },
      "execution_count": 25,
      "outputs": [
        {
          "output_type": "display_data",
          "data": {
            "text/plain": [
              "<Figure size 1440x288 with 20 Axes>"
            ],
            "image/png": "[encoded data removed]"
          },
          "metadata": {
            "needs_background": "light"
          }
        }
      ]
    },
    {
      "cell_type": "code",
      "source": [
        ""
      ],
      "metadata": {
        "id": "zbQ_pBZjEQBh"
      },
      "execution_count": null,
      "outputs": []
    },
    {
      "cell_type": "code",
      "source": [
        ""
      ],
      "metadata": {
        "id": "yVUTdL_VEQDo"
      },
      "execution_count": null,
      "outputs": []
    }
  ]
}